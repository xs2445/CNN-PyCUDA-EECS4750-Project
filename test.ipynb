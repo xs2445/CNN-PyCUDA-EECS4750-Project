{
 "cells": [
  {
   "cell_type": "code",
   "execution_count": 1,
   "metadata": {},
   "outputs": [],
   "source": [
    "from utils.Model import Sequential\n",
    "import numpy as np\n",
    "import matplotlib.pyplot as plt\n",
    "from tensorflow.keras.datasets import fashion_mnist\n",
    "\n",
    "\n",
    "\n",
    "%load_ext autoreload\n",
    "%autoreload 2\n",
    "%matplotlib inline"
   ]
  },
  {
   "cell_type": "code",
   "execution_count": 2,
   "metadata": {},
   "outputs": [
    {
     "name": "stdout",
     "output_type": "stream",
     "text": [
      "Training data shape:  (60000, 784)\n",
      "Training labels shape:  (60000,)\n",
      "Validation data shape:  (10000, 784)\n",
      "Validation labels shape:  (10000,)\n"
     ]
    }
   ],
   "source": [
    "# Load the raw Fashion-MNIST data.\n",
    "train, val = fashion_mnist.load_data()\n",
    "\n",
    "X_train_raw, y_train = train\n",
    "X_val_raw, y_val = val\n",
    "\n",
    "X_train = X_train_raw.reshape((X_train_raw.shape[0], X_train_raw.shape[1]**2))\n",
    "X_val = X_val_raw.reshape((X_val_raw.shape[0], X_val_raw.shape[1]**2))\n",
    "\n",
    "#Index from the 10000th image of the dataset\n",
    "# X_val = X_train[10000:10500,:]\n",
    "# y_val = y_train[10000:10500]\n",
    "# X_train = X_train[10500:12500,:]\n",
    "# y_train = y_train[10500:12500]\n",
    "\n",
    "mean_image = np.mean(X_train, axis=0).astype(np.float32)\n",
    "X_train = X_train.astype(np.float32) - mean_image\n",
    "X_val = X_val.astype(np.float32) - mean_image\n",
    "\n",
    "# We've vectorized the data for you. That is, we flatten the 32×32×3 images into 1×3072 Numpy arrays.\n",
    "print('Training data shape: ', X_train.shape)\n",
    "print('Training labels shape: ', y_train.shape)\n",
    "print('Validation data shape: ', X_val.shape)\n",
    "print('Validation labels shape: ', y_val.shape)"
   ]
  },
  {
   "cell_type": "code",
   "execution_count": 11,
   "metadata": {},
   "outputs": [],
   "source": [
    "input_size = 784\n",
    "num_class = 10\n",
    "\n",
    "model = Sequential(Input_size=input_size)\n",
    "model.add('Dense', 100)\n",
    "# model.add('Dense', 50)\n",
    "model.add('Dense', num_class)\n",
    "# model.add('Dense', o)\n"
   ]
  },
  {
   "cell_type": "code",
   "execution_count": 12,
   "metadata": {},
   "outputs": [
    {
     "name": "stdout",
     "output_type": "stream",
     "text": [
      "number of batches for training: 600\n",
      "epoch 1: loss = 0.0, train acc = 0.1, val acc = 0.1, lr = 0.0095\n",
      "epoch 2: loss = 0.0, train acc = 0.1, val acc = 0.1, lr = 0.009025\n",
      "epoch 3: loss = 0.0, train acc = 0.1, val acc = 0.1, lr = 0.00857375\n",
      "epoch 4: loss = 0.0, train acc = 0.1, val acc = 0.1, lr = 0.0081450625\n",
      "epoch 5: loss = 0.0, train acc = 0.1, val acc = 0.1, lr = 0.007737809374999999\n"
     ]
    }
   ],
   "source": [
    "from utils.Optimizers import SGDOptim, my_SGD\n",
    "\n",
    "\n",
    "\n",
    "\n",
    "optimizer = my_SGD()\n",
    "lr = 1e-2\n",
    "epoch = 5\n",
    "batch=100\n",
    "\n",
    "loss_hist, train_acc_hist, valid_acc_hist = optimizer.train(\n",
    "        model, X_train, y_train, X_val, y_val, epoch, batch, lr)\n",
    "\n"
   ]
  },
  {
   "cell_type": "code",
   "execution_count": 10,
   "metadata": {},
   "outputs": [
    {
     "name": "stdout",
     "output_type": "stream",
     "text": [
      "[[ 7.2232271e-03  5.4598087e-03  6.2410845e-03 ...  6.2487274e-03\n",
      "   4.2276145e-03  6.4158384e-03]\n",
      " [ 2.9601532e-03  7.1315295e-03  3.0140798e-03 ...  7.7093061e-04\n",
      "   3.6185063e-04  1.2842091e-03]\n",
      " [ 1.5525855e-03  7.3130787e-03  6.1980598e-03 ...  1.2476877e-05\n",
      "   4.8417682e-03  4.4607115e-03]\n",
      " ...\n",
      " [ 3.8614895e-03  5.6426134e-03  1.6518822e-03 ...  4.3760883e-03\n",
      "   5.9943213e-03  1.8820980e-03]\n",
      " [ 3.5516075e-03  8.8919615e-03  5.8305012e-03 ... -7.3966919e-04\n",
      "   5.8462513e-03 -1.5092519e-04]\n",
      " [ 3.2761386e-03  8.7118819e-03 -1.0894649e-04 ...  5.7156081e-03\n",
      "   7.9068244e-03  1.2597229e-04]]\n",
      "[-1.4848181e-04 -5.9710936e-05  1.3851262e-04  1.5070011e-04\n",
      " -2.0773191e-04 -3.3266686e-05  3.1904463e-05  2.0668875e-05\n",
      "  2.1343202e-04 -4.0140822e-05 -2.2058784e-04  5.8074253e-05\n",
      "  2.8100543e-04  2.5069086e-05  1.1191701e-04  6.7879177e-05\n",
      "  2.1610533e-04  3.5812347e-05  2.9970706e-04 -1.6853523e-04\n",
      " -1.8685327e-04  1.2182040e-04 -5.6740213e-05  1.5102420e-04\n",
      "  1.4666665e-05 -1.0023034e-06  1.5128689e-04  3.5351528e-05\n",
      " -5.9097067e-05  6.8514870e-05  1.9259239e-04 -2.2252003e-05\n",
      " -1.3786627e-04 -7.3984113e-05  1.6317551e-04 -7.7532903e-05\n",
      "  1.9438770e-04  3.3459382e-05 -5.1402880e-05  9.5400574e-05\n",
      " -2.5399508e-05 -7.9375444e-05  6.3675550e-05  1.1868353e-04\n",
      "  1.3134335e-04 -1.9695323e-04  2.0667985e-04  1.0973401e-05\n",
      "  1.2675166e-04  2.5201964e-05  1.2671330e-04 -3.2528897e-07\n",
      "  1.3570907e-04 -1.7910224e-04  7.3327166e-05  1.5324350e-04\n",
      "  4.6315650e-05  1.0647561e-05  2.2370245e-04  8.2932325e-05\n",
      "  1.0405963e-05  1.3541922e-04 -6.1682156e-05  1.2255830e-04\n",
      "  6.8681402e-05  1.4680241e-04  1.0808961e-06  1.6561770e-04\n",
      "  1.5067660e-04  5.4383399e-05 -5.9059843e-05  9.1696282e-05\n",
      "  4.6059642e-05 -1.6972853e-04  1.1544396e-06  3.6714398e-05\n",
      " -2.9333833e-05  2.3583314e-04  2.4041100e-04  1.3338270e-05\n",
      "  4.4603854e-05  1.3105405e-04  1.4047415e-04  6.8686306e-05\n",
      " -1.2894810e-04 -1.5227069e-04  5.3441981e-05  2.0924618e-04\n",
      "  1.0163010e-04  1.0673973e-04  2.5090607e-04 -4.2801301e-05\n",
      " -1.8297304e-05  1.4431769e-04  3.2137890e-04  7.7145283e-05\n",
      "  1.9156979e-04 -6.6692512e-05 -4.9713373e-05 -7.1369243e-05]\n"
     ]
    }
   ],
   "source": [
    "# model.layers[\"Dense_1\"].params[\"weight\"] += 1\n",
    "print(model.layers[\"Dense_1\"].params[\"weight\"])\n",
    "print(model.layers[\"Dense_1\"].params[\"bias\"])\n"
   ]
  },
  {
   "cell_type": "code",
   "execution_count": 6,
   "metadata": {},
   "outputs": [
    {
     "data": {
      "image/png": "[encoded data removed]",
      "text/plain": [
       "<Figure size 432x288 with 1 Axes>"
      ]
     },
     "metadata": {
      "needs_background": "light"
     },
     "output_type": "display_data"
    }
   ],
   "source": [
    "# print(loss_hist, train_acc_hist, valid_acc_hist)\n",
    "\n",
    "plt.plot(loss_hist/np.max(loss_hist))\n",
    "plt.plot(train_acc_hist)\n",
    "plt.plot(valid_acc_hist);\n",
    "\n"
   ]
  },
  {
   "cell_type": "code",
   "execution_count": 7,
   "metadata": {},
   "outputs": [
    {
     "name": "stdout",
     "output_type": "stream",
     "text": [
      "k: 0\n",
      "j: 0\n",
      "result: 1.2999999999999998\n",
      "k: 1\n"
     ]
    }
   ],
   "source": [
    "a = []\n",
    "b = []\n",
    "a.append([2.3])\n",
    "a.append([])\n",
    "b.append([1,5])\n",
    "b.append([])\n",
    "for k in range(len(a)):\n",
    "    print('k:',k)\n",
    "    for j in range(len(a[k])):\n",
    "        print('j:',j)\n",
    "        print('result:',a[k][j]-b[k][j])"
   ]
  },
  {
   "cell_type": "code",
   "execution_count": 12,
   "metadata": {},
   "outputs": [
    {
     "name": "stdout",
     "output_type": "stream",
     "text": [
      "name: dense_1_w\n",
      "result: 0\n"
     ]
    }
   ],
   "source": [
    "a = dict()\n",
    "b = dict()\n",
    "\n",
    "a['dense_1_w'] = 5\n",
    "b['dense_1_w'] = 5\n",
    "\n",
    "\n",
    "for k in a:\n",
    "    print('name:', k)\n",
    "    print('result:', a[k]-b[k])\n"
   ]
  }
 ],
 "metadata": {
  "interpreter": {
   "hash": "b9e7c299ad3b0bde8a352d84c77c8e176a6222f138fdde195545b1cf935bfa32"
  },
  "kernelspec": {
   "display_name": "Python 3.6.9 64-bit ('cudaEnv': venv)",
   "language": "python",
   "name": "python3"
  },
  "language_info": {
   "codemirror_mode": {
    "name": "ipython",
    "version": 3
   },
   "file_extension": ".py",
   "mimetype": "text/x-python",
   "name": "python",
   "nbconvert_exporter": "python",
   "pygments_lexer": "ipython3",
   "version": "3.6.9"
  },
  "orig_nbformat": 4
 },
 "nbformat": 4,
 "nbformat_minor": 2
}
