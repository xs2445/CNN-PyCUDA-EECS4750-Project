{
 "cells": [
  {
   "cell_type": "code",
   "execution_count": 1,
   "metadata": {},
   "outputs": [],
   "source": [
    "import numpy as np\n",
    "import matplotlib.pyplot as plt\n",
    "%matplotlib inline\n",
    "import time\n",
    "from scipy.signal import convolve2d\n",
    "from ConvLayerPara import ConvLayerP"
   ]
  },
  {
   "cell_type": "code",
   "execution_count": 2,
   "metadata": {},
   "outputs": [
    {
     "name": "stdout",
     "output_type": "stream",
     "text": [
      "Shape of X:  (2, 3, 32, 32)\n",
      "Shape of Masks:  (3, 3, 5, 5)\n"
     ]
    }
   ],
   "source": [
    "batch = 2\n",
    "C, M, H, W, K = 3, 3, 32, 32, 5\n",
    "\n",
    "x_shape = (batch, C,H,W)\n",
    "m_shape = (M,C,K,K)\n",
    "y_shape = (batch, M,H-K+1,W-K+1)\n",
    "\n",
    "X = np.random.rand(*x_shape).astype(np.float32)\n",
    "print('Shape of X: ', X.shape)\n",
    "Masks = np.random.rand(*m_shape).astype(np.float32)\n",
    "print('Shape of Masks: ', Masks.shape)"
   ]
  },
  {
   "cell_type": "code",
   "execution_count": 4,
   "metadata": {},
   "outputs": [
    {
     "name": "stdout",
     "output_type": "stream",
     "text": [
      "(32, 32, 1)\n",
      "(1000, 16, 1)\n",
      "(1000, 16, 28, 28)\n"
     ]
    }
   ],
   "source": [
    "layer = ConvLayerP()\n",
    "\n",
    "Y_naive = layer.forward_naive(X, Masks, batch, C, M, H, W, K)\n",
    "print(Y_naive.shape)\n",
    "# print(Y_naive)"
   ]
  },
  {
   "cell_type": "code",
   "execution_count": 3,
   "metadata": {},
   "outputs": [
    {
     "name": "stdout",
     "output_type": "stream",
     "text": [
      "Block:  (32, 32, 1)\n",
      "Grid:  (2, 3, 1)\n",
      "sharedmem:  5284 Byte\n",
      "(2, 3, 28, 28)\n",
      "[[[[  0.         0.         0.       ... 227.69893  227.69893\n",
      "    227.69893 ]\n",
      "   [227.69893  227.69893  227.69893  ...  87.820625  65.035\n",
      "     65.035   ]\n",
      "   [ 65.035     65.035     36.442947 ...   0.         0.\n",
      "      0.      ]\n",
      "   ...\n",
      "   [  0.         0.         0.       ...   0.         0.\n",
      "      0.      ]\n",
      "   [  0.         0.         0.       ...   0.         0.\n",
      "      0.      ]\n",
      "   [  0.         0.         0.       ...   0.         0.\n",
      "      0.      ]]\n",
      "\n",
      "  [[  0.         0.         0.       ...   0.         0.\n",
      "      0.      ]\n",
      "   [  0.         0.         0.       ...   0.         0.\n",
      "      0.      ]\n",
      "   [  0.         0.         0.       ...   0.         0.\n",
      "      0.      ]\n",
      "   ...\n",
      "   [  0.         0.         0.       ...   0.         0.\n",
      "      0.      ]\n",
      "   [  0.         0.         0.       ...   0.         0.\n",
      "      0.      ]\n",
      "   [  0.         0.         0.       ...   0.         0.\n",
      "      0.      ]]\n",
      "\n",
      "  [[  0.         0.         0.       ...   0.         0.\n",
      "      0.      ]\n",
      "   [  0.         0.         0.       ...   0.         0.\n",
      "      0.      ]\n",
      "   [  0.         0.         0.       ...   0.         0.\n",
      "      0.      ]\n",
      "   ...\n",
      "   [  0.         0.         0.       ...   0.         0.\n",
      "      0.      ]\n",
      "   [  0.         0.         0.       ...   0.         0.\n",
      "      0.      ]\n",
      "   [  0.         0.         0.       ...   0.         0.\n",
      "      0.      ]]]\n",
      "\n",
      "\n",
      " [[[  0.         0.         0.       ...   0.         0.\n",
      "      0.      ]\n",
      "   [  0.         0.         0.       ...   0.         0.\n",
      "      0.      ]\n",
      "   [  0.         0.         0.       ...   0.         0.\n",
      "      0.      ]\n",
      "   ...\n",
      "   [  0.         0.         0.       ...   0.         0.\n",
      "      0.      ]\n",
      "   [  0.         0.         0.       ...   0.         0.\n",
      "      0.      ]\n",
      "   [  0.         0.         0.       ...   0.         0.\n",
      "      0.      ]]\n",
      "\n",
      "  [[  0.         0.         0.       ...   0.         0.\n",
      "      0.      ]\n",
      "   [  0.         0.         0.       ...   0.         0.\n",
      "      0.      ]\n",
      "   [  0.         0.         0.       ...   0.         0.\n",
      "      0.      ]\n",
      "   ...\n",
      "   [  0.         0.         0.       ...   0.         0.\n",
      "      0.      ]\n",
      "   [  0.         0.         0.       ...   0.         0.\n",
      "      0.      ]\n",
      "   [  0.         0.         0.       ...   0.         0.\n",
      "      0.      ]]\n",
      "\n",
      "  [[  0.         0.         0.       ...   0.         0.\n",
      "      0.      ]\n",
      "   [  0.         0.         0.       ...   0.         0.\n",
      "      0.      ]\n",
      "   [  0.         0.         0.       ...   0.         0.\n",
      "      0.      ]\n",
      "   ...\n",
      "   [  0.         0.         0.       ...   0.         0.\n",
      "      0.      ]\n",
      "   [  0.         0.         0.       ...   0.         0.\n",
      "      0.      ]\n",
      "   [  0.         0.         0.       ...   0.         0.\n",
      "      0.      ]]]]\n"
     ]
    }
   ],
   "source": [
    "layer = ConvLayerP()\n",
    "\n",
    "Y_shared = layer.forward_shared(X, Masks, batch, C, M, H, W, K)\n",
    "print(Y_shared.shape)\n",
    "print(Y_shared)\n",
    "\n"
   ]
  },
  {
   "cell_type": "code",
   "execution_count": 8,
   "metadata": {},
   "outputs": [
    {
     "data": {
      "text/plain": [
       "4"
      ]
     },
     "execution_count": 8,
     "metadata": {},
     "output_type": "execute_result"
    }
   ],
   "source": [
    "np.dtype(np.float32).itemsize"
   ]
  }
 ],
 "metadata": {
  "interpreter": {
   "hash": "b9e7c299ad3b0bde8a352d84c77c8e176a6222f138fdde195545b1cf935bfa32"
  },
  "kernelspec": {
   "display_name": "Python 3.6.9 64-bit ('cudaEnv': venv)",
   "language": "python",
   "name": "python3"
  },
  "language_info": {
   "codemirror_mode": {
    "name": "ipython",
    "version": 3
   },
   "file_extension": ".py",
   "mimetype": "text/x-python",
   "name": "python",
   "nbconvert_exporter": "python",
   "pygments_lexer": "ipython3",
   "version": "3.6.9"
  },
  "orig_nbformat": 4
 },
 "nbformat": 4,
 "nbformat_minor": 2
}
