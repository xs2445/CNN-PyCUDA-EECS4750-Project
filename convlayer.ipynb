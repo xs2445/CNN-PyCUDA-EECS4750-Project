{
 "cells": [
  {
   "cell_type": "code",
   "execution_count": 1,
   "metadata": {},
   "outputs": [],
   "source": [
    "import numpy as np\n",
    "import matplotlib.pyplot as plt\n",
    "%matplotlib inline\n",
    "import time\n",
    "from scipy.signal import convolve2d\n",
    "from utils.parallel.ConvLayerPara import ConvLayerP\n",
    "%load_ext autoreload\n",
    "%autoreload 2"
   ]
  },
  {
   "cell_type": "code",
   "execution_count": 17,
   "metadata": {},
   "outputs": [],
   "source": [
    "def testing_parallel(layer, N, C, M, H, W, K):\n",
    "    x_shape = (N, C,H,W)\n",
    "    m_shape = (M,C,K,K)\n",
    "    X = np.random.rand(*x_shape).astype(np.float32)\n",
    "    Masks = np.random.rand(*m_shape).astype(np.float32)\n",
    "\n",
    "    _, t_naive = layer.forward_naive(X, Masks, N, C, M, H, W, K)\n",
    "\n",
    "    _, t_shared = layer.forward_shared(X, Masks, N, C, M, H, W, K)\n",
    "\n",
    "    t_sample_naive = 0\n",
    "    for i in range(N):\n",
    "        _, t_temp_naive = layer.forward_sample_naive(X[i], Masks, C, M, H, W, K)\n",
    "        t_sample_naive += t_temp_naive\n",
    "\n",
    "    t_sample_shared = 0\n",
    "    for i in range(N):\n",
    "        _, t_temp_shared = layer.forward_sample_shared(X[i], Masks, C, M, H, W, K)\n",
    "        t_sample_shared += t_temp_shared\n",
    "\n",
    "    return t_naive, t_shared, t_sample_naive, t_sample_shared\n",
    "\n",
    "\n",
    "def testing_serial(layer, N, C, M, H, W, K, t_serial):\n",
    "    x_shape = (N, C,H,W)\n",
    "    m_shape = (M,C,K,K)\n",
    "    X = np.random.rand(*x_shape).astype(np.float32)\n",
    "    Masks = np.random.rand(*m_shape).astype(np.float32)\n",
    "    \n",
    "    _, t_serial = layer.forward_serial(X, Masks, N, C, M, H, W, K)\n",
    "\n",
    "    return t_serial\n",
    "\n",
    "\n",
    "def test_parallel(N_list, loop_time):\n",
    "\n",
    "    layer = ConvLayerP()\n",
    "    C, M, H, W, K = 16, 32, 32, 32, 3\n",
    "\n",
    "    t_naive = []\n",
    "    t_shared = []\n",
    "    t_sample_naive = []\n",
    "    t_sample_shared = []\n",
    "    t_serial = []\n",
    "\n",
    "    for n in N_list:\n",
    "        print('N: ', n)\n",
    "        t_naive += [0]\n",
    "        t_shared += [0]\n",
    "        t_sample_naive += [0]\n",
    "        t_sample_shared += [0]\n",
    "        t_serial += [0]\n",
    "        for _ in range(loop_time):\n",
    "            result = testing_parallel(layer, n, C, M, H, W, K)\n",
    "            t_naive[-1] += result[0]/loop_time\n",
    "            t_shared[-1] += result[1]/loop_time\n",
    "            t_sample_naive[-1] += result[2]/loop_time\n",
    "            t_sample_shared[-1] += result[3]/loop_time\n",
    "\n",
    "    return t_naive, t_shared, t_sample_naive, t_sample_shared\n",
    "\n",
    "\n",
    "def test_serial(N_list, loop_time):\n",
    "\n",
    "    layer = ConvLayerP()\n",
    "    C, M, H, W, K = 16, 32, 32, 32, 3\n",
    "\n",
    "    t_serial = []\n",
    "\n",
    "    for n in N_list[:4]:\n",
    "        if n <= 2:\n",
    "            print('N: ', n)\n",
    "            t_serial += [0]\n",
    "            for _ in range(loop_time):\n",
    "                result = testing_serial(layer, n, C, M, H, W, K, t_serial)\n",
    "                t_serial[-1] += result/loop_time\n",
    "    \n",
    "    return t_serial"
   ]
  },
  {
   "cell_type": "code",
   "execution_count": 18,
   "metadata": {},
   "outputs": [
    {
     "name": "stdout",
     "output_type": "stream",
     "text": [
      "N:  1\n",
      "N:  2\n",
      "N:  4\n",
      "N:  8\n",
      "N:  16\n",
      "N:  32\n",
      "N:  64\n",
      "N:  128\n",
      "N:  256\n",
      "N:  512\n",
      "N:  1024\n"
     ]
    }
   ],
   "source": [
    "N_list = [1,2,4,8,16,32,64,128,256,512,1024]\n",
    "loop_time = 10\n",
    "t_naive, t_shared, t_sample_naive, t_sample_shared = test_parallel(N_list, loop_time)"
   ]
  },
  {
   "cell_type": "code",
   "execution_count": 19,
   "metadata": {},
   "outputs": [
    {
     "name": "stdout",
     "output_type": "stream",
     "text": [
      "N:  1\n",
      "N:  2\n"
     ]
    }
   ],
   "source": [
    "t_serial = test_serial(N_list, loop_time)"
   ]
  },
  {
   "cell_type": "code",
   "execution_count": 20,
   "metadata": {},
   "outputs": [],
   "source": [
    "np.save('./data/t_naive.npy', np.array(t_naive))\n",
    "np.save('./data/t_shared.npy', np.array(t_shared))\n",
    "np.save('./data/t_sample_naive.npy', np.array(t_sample_naive))\n",
    "np.save('./data/t_sample_shared.npy', np.array(t_sample_shared))\n",
    "np.save('./data/t_serial.npy', np.array(t_serial))\n",
    "\n"
   ]
  },
  {
   "cell_type": "code",
   "execution_count": 21,
   "metadata": {},
   "outputs": [
    {
     "data": {
      "image/png": "[encoded data removed]",
      "text/plain": [
       "<Figure size 432x288 with 1 Axes>"
      ]
     },
     "metadata": {
      "needs_background": "light"
     },
     "output_type": "display_data"
    }
   ],
   "source": [
    "\n",
    "plt.figure()\n",
    "plt.plot(t_naive, label='naive')\n",
    "plt.plot(t_shared, label='shared')\n",
    "plt.plot(t_sample_naive, label='sample_naive')\n",
    "plt.plot(t_sample_shared, label='sample_shared')\n",
    "plt.plot(t_serial, label='serial')\n",
    "plt.xticks(range(len(N_list)), N_list)\n",
    "plt.grid()\n",
    "plt.ylabel('Processing Time (ms)')\n",
    "plt.xlabel('Batch Size')\n",
    "plt.title('Comparason between different convolution method')\n",
    "plt.legend();\n",
    "plt.savefig('./data/conv_withserial.png')"
   ]
  },
  {
   "cell_type": "code",
   "execution_count": 22,
   "metadata": {},
   "outputs": [
    {
     "data": {
      "image/png": "[encoded data removed]",
      "text/plain": [
       "<Figure size 432x288 with 1 Axes>"
      ]
     },
     "metadata": {
      "needs_background": "light"
     },
     "output_type": "display_data"
    }
   ],
   "source": [
    "plt.figure()\n",
    "plt.plot(t_naive, label='naive')\n",
    "plt.plot(t_shared, label='shared')\n",
    "plt.xticks(range(len(N_list)), N_list)\n",
    "plt.grid()\n",
    "plt.ylabel('Processing Time (ms)')\n",
    "plt.xlabel('Batch Size')\n",
    "plt.title('Comparason between different convolution method')\n",
    "plt.legend();\n",
    "plt.savefig('./data/conv_batch.png')"
   ]
  },
  {
   "cell_type": "code",
   "execution_count": 23,
   "metadata": {},
   "outputs": [
    {
     "data": {
      "image/png": "[encoded data removed]",
      "text/plain": [
       "<Figure size 432x288 with 1 Axes>"
      ]
     },
     "metadata": {
      "needs_background": "light"
     },
     "output_type": "display_data"
    }
   ],
   "source": [
    "plt.figure()\n",
    "plt.plot(t_sample_naive, label='sample_naive')\n",
    "plt.plot(t_sample_shared, label='sample_shared')\n",
    "plt.xticks(range(len(N_list)), N_list)\n",
    "plt.grid()\n",
    "plt.ylabel('Processing Time (ms)')\n",
    "plt.xlabel('Batch Size')\n",
    "plt.title('Comparason between different convolution method')\n",
    "plt.legend();\n",
    "plt.savefig('./data/conv_sample.png')"
   ]
  },
  {
   "cell_type": "code",
   "execution_count": null,
   "metadata": {},
   "outputs": [],
   "source": [
    "import numpy as np\n",
    "\n",
    "t_naive = np.load('./data/t_naive.npy')\n",
    "t_shared = np.save('./data/t_shared.npy')\n",
    "t_sample_naive = np.save('./data/t_sample_naive.npy')\n",
    "t_sample_shared = np.save('./data/t_sample_shared.npy')\n",
    "t_serial = np.save('./data/t_serial.npy')"
   ]
  },
  {
   "cell_type": "code",
   "execution_count": 13,
   "metadata": {},
   "outputs": [
    {
     "name": "stdout",
     "output_type": "stream",
     "text": [
      "Shape of X:  (1000, 3, 128, 128)\n",
      "Shape of Masks:  (3, 3, 3, 3)\n"
     ]
    }
   ],
   "source": [
    "batch = 1000\n",
    "C, M, H, W, K = 3, 3, 128, 128, 3\n",
    "\n",
    "x_shape = (batch, C,H,W)\n",
    "m_shape = (M,C,K,K)\n",
    "y_shape = (batch, M, H-K+1, W-K+1)\n",
    "\n",
    "X = np.random.rand(*x_shape).astype(np.float32)\n",
    "print('Shape of X: ', X.shape)\n",
    "Masks = np.random.rand(*m_shape).astype(np.float32)\n",
    "print('Shape of Masks: ', Masks.shape)"
   ]
  },
  {
   "cell_type": "code",
   "execution_count": 18,
   "metadata": {},
   "outputs": [],
   "source": [
    "layer = ConvLayerP()\n",
    "for i in range(batch):\n",
    "    Y_sample_sahred = layer.forward_sample_shared(X[i], Masks, C, M, H, W, K)"
   ]
  },
  {
   "cell_type": "code",
   "execution_count": 5,
   "metadata": {},
   "outputs": [
    {
     "name": "stdout",
     "output_type": "stream",
     "text": [
      "(32, 32, 1)\n",
      "(2, 3, 4)\n",
      "(2, 3, 63, 63)\n"
     ]
    }
   ],
   "source": [
    "layer = ConvLayerP()\n",
    "\n",
    "Y_naive = layer.forward_naive(X, Masks, batch, C, M, H, W, K)\n",
    "print(Y_naive.shape)\n",
    "# print(Y_naive)"
   ]
  },
  {
   "cell_type": "code",
   "execution_count": 5,
   "metadata": {},
   "outputs": [
    {
     "name": "stdout",
     "output_type": "stream",
     "text": [
      "Block:  (32, 32, 1)\n",
      "Grid:  (1000, 3, 16)\n",
      "sharedmem:  4660 Byte\n",
      "(1000, 3, 126, 126)\n",
      "[[[[7.549174   6.7277594  5.8029695  ... 6.741596   5.9617243\n",
      "    6.192018  ]\n",
      "   [4.845324   2.9781     6.973196   ... 6.0805006  5.011341\n",
      "    5.971016  ]\n",
      "   [4.9553337  2.7108836  5.9631977  ... 5.4173903  5.0405893\n",
      "    6.173236  ]\n",
      "   ...\n",
      "   [4.887554   1.7476386  6.7087626  ... 6.581533   5.8476834\n",
      "    5.214723  ]\n",
      "   [4.4104886  1.7199509  7.196432   ... 5.244977   6.2033973\n",
      "    6.212957  ]\n",
      "   [4.769962   1.9473916  7.5131364  ... 5.637623   6.1410747\n",
      "    6.205826  ]]\n",
      "\n",
      "  [[5.5872993  2.1310399  5.1400485  ... 4.1776466  5.2308083\n",
      "    4.809724  ]\n",
      "   [3.5964904  1.2265097  1.4145409  ... 1.6886785  1.3710936\n",
      "    1.6059567 ]\n",
      "   [1.1568091  0.2721266  7.6042128  ... 6.7183166  6.8893013\n",
      "    7.58477   ]\n",
      "   ...\n",
      "   [5.6464863  2.360147   8.796903   ... 7.3505726  6.627256\n",
      "    6.999948  ]\n",
      "   [5.497767   1.9313958  9.006899   ... 6.9564347  7.3519163\n",
      "    7.5038877 ]\n",
      "   [5.0266685  2.1553342  7.9220033  ... 6.372808   8.363823\n",
      "    8.549027  ]]\n",
      "\n",
      "  [[6.221566   2.699128   5.517589   ... 4.6520925  6.352793\n",
      "    5.803858  ]\n",
      "   [4.550141   1.6465595  2.7242377  ... 2.7850611  2.8204126\n",
      "    2.4754984 ]\n",
      "   [1.7842374  0.50464916 6.712122   ... 5.4048934  5.204806\n",
      "    6.829708  ]\n",
      "   ...\n",
      "   [4.829673   1.6534805  6.7817264  ... 6.3732495  5.952396\n",
      "    6.018929  ]\n",
      "   [4.3717055  1.9482142  7.486771   ... 5.1869326  5.718036\n",
      "    6.2349377 ]\n",
      "   [5.0787563  2.1264403  7.509169   ... 5.033335   7.0256066\n",
      "    6.7527714 ]]]\n",
      "\n",
      "\n",
      " [[[5.7185817  2.4260373  5.125829   ... 3.7913496  4.8295417\n",
      "    4.1187463 ]\n",
      "   [3.2197735  1.3459722  2.082309   ... 2.0475776  2.1878757\n",
      "    1.7016608 ]\n",
      "   [1.2942148  0.45232746 6.94873    ... 7.3871174  6.754096\n",
      "    5.998924  ]\n",
      "   ...\n",
      "   [5.265549   2.3626764  7.144814   ... 6.1332216  7.4190235\n",
      "    7.1620593 ]\n",
      "   [5.483836   2.5033813  6.788351   ... 6.266001   6.918627\n",
      "    7.2159414 ]\n",
      "   [5.9068813  2.7101593  5.82515    ... 6.120732   7.080495\n",
      "    7.364692  ]]\n",
      "\n",
      "  [[5.3321075  2.07581    3.3182847  ... 5.5489736  5.0830493\n",
      "    4.144167  ]\n",
      "   [2.5744767  1.0569541  0.8325274  ... 1.7020371  2.0001574\n",
      "    1.2047322 ]\n",
      "   [0.5461786  0.18187167 8.628794   ... 9.172232   8.017228\n",
      "    8.525045  ]\n",
      "   ...\n",
      "   [5.025665   3.0003679  8.043556   ... 8.3186035  9.706342\n",
      "    8.401578  ]\n",
      "   [6.0352364  3.1818478  8.868845   ... 8.402662   9.305144\n",
      "    8.849411  ]\n",
      "   [6.9016485  3.4009979  7.7280703  ... 8.541965   8.196905\n",
      "    8.836365  ]]\n",
      "\n",
      "  [[6.341403   3.1673477  3.7305737  ... 5.5385327  5.6760125\n",
      "    5.829846  ]\n",
      "   [3.83611    1.5028561  1.4566417  ... 3.1945217  2.98051\n",
      "    2.0933359 ]\n",
      "   [0.91663456 0.24832441 6.37842    ... 7.3132744  6.895777\n",
      "    6.8402524 ]\n",
      "   ...\n",
      "   [5.093585   2.790015   7.525328   ... 6.728993   7.142069\n",
      "    7.3775983 ]\n",
      "   [5.136148   3.1259744  6.4608746  ... 5.9978266  7.455718\n",
      "    7.399387  ]\n",
      "   [5.7712746  2.9821675  6.057687   ... 7.1449213  7.5083394\n",
      "    7.110054  ]]]\n",
      "\n",
      "\n",
      " [[[4.713145   2.4467785  3.8082206  ... 4.583675   4.351124\n",
      "    4.0431123 ]\n",
      "   [2.5762558  1.2869213  1.4539297  ... 2.2816234  1.872569\n",
      "    1.4332619 ]\n",
      "   [0.6106559  0.2739424  5.715276   ... 5.9417996  6.4076233\n",
      "    5.9692025 ]\n",
      "   ...\n",
      "   [4.114967   1.9739498  7.5598273  ... 6.30267    5.822904\n",
      "    4.9213347 ]\n",
      "   [3.839899   2.006152   6.976545   ... 6.2075214  6.9390707\n",
      "    7.282757  ]\n",
      "   [5.0962715  2.3936787  6.4367466  ... 6.460028   5.8553925\n",
      "    6.5180435 ]]\n",
      "\n",
      "  [[4.0333133  2.461271   3.7536926  ... 3.5582876  3.5194\n",
      "    3.919739  ]\n",
      "   [2.6650736  1.2668895  1.0771288  ... 1.0546671  0.8696306\n",
      "    0.6769633 ]\n",
      "   [0.6548939  0.30983484 7.7781396  ... 8.411005   8.389702\n",
      "    7.8456507 ]\n",
      "   ...\n",
      "   [4.435316   2.5116818  9.866225   ... 7.91762    8.093581\n",
      "    6.787756  ]\n",
      "   [5.025459   2.5468879  8.533223   ... 7.6300383  7.4221506\n",
      "    7.85036   ]\n",
      "   [6.2264733  2.5448284  8.021932   ... 7.7254934  6.5994315\n",
      "    8.362109  ]]\n",
      "\n",
      "  [[5.286497   2.929815   4.885205   ... 4.114725   3.448819\n",
      "    4.7916183 ]\n",
      "   [3.7152257  1.8412404  1.7215304  ... 1.4076539  1.3528637\n",
      "    1.3023738 ]\n",
      "   [0.900908   0.3456906  5.646457   ... 7.185173   6.235881\n",
      "    6.446194  ]\n",
      "   ...\n",
      "   [3.5062327  1.9736712  7.3370743  ... 5.406789   6.1222086\n",
      "    5.443205  ]\n",
      "   [4.534086   2.353954   7.502908   ... 6.720716   6.626648\n",
      "    6.550108  ]\n",
      "   [5.070121   2.3428073  6.6696534  ... 6.974393   6.1302366\n",
      "    6.4784126 ]]]\n",
      "\n",
      "\n",
      " ...\n",
      "\n",
      "\n",
      " [[[2.554774   1.4226916  3.729939   ... 2.6921515  3.4033985\n",
      "    2.0223253 ]\n",
      "   [1.5905169  0.490106   2.0006387  ... 1.0856452  1.4869612\n",
      "    0.6411986 ]\n",
      "   [0.80729455 0.28502107 8.001328   ... 5.2527366  5.7223663\n",
      "    7.0838485 ]\n",
      "   ...\n",
      "   [4.608878   2.2544494  4.606517   ... 6.3620667  7.8154407\n",
      "    6.6621394 ]\n",
      "   [4.590467   2.681249   6.121642   ... 6.341816   7.6151843\n",
      "    6.932392  ]\n",
      "   [5.172356   2.3728287  7.501032   ... 7.3373523  7.110997\n",
      "    5.543006  ]]\n",
      "\n",
      "  [[3.8002388  2.2385664  5.9140744  ... 4.723305   4.1336393\n",
      "    3.6110759 ]\n",
      "   [2.4935815  1.3270943  1.4065958  ... 1.5005804  1.22954\n",
      "    0.8711185 ]\n",
      "   [0.7289184  0.4683073  9.759239   ... 7.116452   8.52554\n",
      "    9.434499  ]\n",
      "   ...\n",
      "   [6.320169   2.5391157  5.67272    ... 6.714936   9.158225\n",
      "    9.015635  ]\n",
      "   [6.371835   2.9556925  7.294281   ... 7.681999   9.405877\n",
      "    8.225113  ]\n",
      "   [6.5448146  2.8333716  9.398505   ... 8.380629   8.061086\n",
      "    7.7880225 ]]\n",
      "\n",
      "  [[5.0845203  2.6412818  6.320895   ... 6.460513   5.390272\n",
      "    4.3059483 ]\n",
      "   [2.976763   1.5661043  2.9854062  ... 2.7396586  2.2144003\n",
      "    1.8214175 ]\n",
      "   [1.3211992  0.68218684 7.3564725  ... 5.9722733  6.17951\n",
      "    7.161208  ]\n",
      "   ...\n",
      "   [5.0685906  2.651252   4.8607993  ... 6.262829   7.696501\n",
      "    6.839395  ]\n",
      "   [5.343035   2.7556844  6.2235413  ... 7.0508523  7.5098505\n",
      "    6.8797174 ]\n",
      "   [5.330645   2.4022248  7.49822    ... 6.950461   6.849342\n",
      "    5.9087243 ]]]\n",
      "\n",
      "\n",
      " [[[4.0353312  2.770334   4.817426   ... 4.540342   3.9992006\n",
      "    3.2548442 ]\n",
      "   [2.3152177  1.154938   2.1852334  ... 1.4537522  1.3791121\n",
      "    1.4456022 ]\n",
      "   [0.6886489  0.7474974  5.882457   ... 7.8541393  7.4718194\n",
      "    6.241053  ]\n",
      "   ...\n",
      "   [5.9763784  2.502134   5.5269113  ... 5.5238214  5.8509693\n",
      "    6.074894  ]\n",
      "   [5.052667   1.9868966  4.43461    ... 6.005228   6.798613\n",
      "    6.3962555 ]\n",
      "   [4.874048   1.7130814  4.868677   ... 6.8501344  6.22201\n",
      "    6.382778  ]]\n",
      "\n",
      "  [[3.8094776  2.3239899  4.0484967  ... 4.415384   4.4300356\n",
      "    4.683873  ]\n",
      "   [3.2509663  1.6285719  1.7420361  ... 1.1622373  1.1634723\n",
      "    1.6657221 ]\n",
      "   [1.2857744  0.52618986 7.488883   ... 9.901749   9.359315\n",
      "    7.700079  ]\n",
      "   ...\n",
      "   [6.08734    3.0023332  5.7880683  ... 7.2121067  7.928412\n",
      "    7.8685474 ]\n",
      "   [5.6053963  2.636888   6.316816   ... 7.93184    7.3483043\n",
      "    8.666652  ]\n",
      "   [5.164578   2.289446   6.3701854  ... 8.007887   8.255182\n",
      "    8.536987  ]]\n",
      "\n",
      "  [[4.3654876  2.920832   4.9018273  ... 4.7863684  4.765464\n",
      "    4.8372226 ]\n",
      "   [3.4350564  2.3777006  2.690452   ... 2.8429675  2.509676\n",
      "    2.7029722 ]\n",
      "   [1.9695784  1.0058622  6.2425246  ... 7.315536   7.892006\n",
      "    6.084134  ]\n",
      "   ...\n",
      "   [5.476353   2.670914   5.1180124  ... 5.983338   6.7028174\n",
      "    7.034678  ]\n",
      "   [5.190546   2.4577608  5.230881   ... 6.1341887  6.3846917\n",
      "    6.4702463 ]\n",
      "   [4.150122   2.0618823  5.1096144  ... 6.867232   6.8095717\n",
      "    6.436803  ]]]\n",
      "\n",
      "\n",
      " [[[4.1781187  2.9102433  3.7607353  ... 4.3940945  4.0278716\n",
      "    4.002126  ]\n",
      "   [2.1855001  1.6062747  1.6608868  ... 2.0990481  1.6415201\n",
      "    2.3967874 ]\n",
      "   [1.0567414  0.90108794 6.9033427  ... 5.313592   6.2675653\n",
      "    6.9285746 ]\n",
      "   ...\n",
      "   [3.9971337  1.5636419  5.6319795  ... 6.467025   5.5126095\n",
      "    6.675418  ]\n",
      "   [4.524902   2.5909727  6.093285   ... 6.7137494  6.8486323\n",
      "    7.7860866 ]\n",
      "   [5.0175557  3.4774156  6.8701253  ... 6.7953367  7.1931863\n",
      "    7.4527407 ]]\n",
      "\n",
      "  [[6.021543   3.273331   5.247184   ... 4.0205073  4.7609954\n",
      "    5.0702677 ]\n",
      "   [4.033093   2.1560957  1.2355465  ... 1.0039696  1.718502\n",
      "    1.8745434 ]\n",
      "   [1.5401788  0.53527147 8.686336   ... 6.067143   8.195239\n",
      "    7.594574  ]\n",
      "   ...\n",
      "   [4.7914124  2.3088145  6.1915717  ... 7.246439   7.8656006\n",
      "    9.078414  ]\n",
      "   [5.1073847  3.1346226  7.015021   ... 8.2972555  8.417566\n",
      "    9.431166  ]\n",
      "   [5.535745   4.0515995  8.91635    ... 9.077507   9.9496975\n",
      "    9.8715725 ]]\n",
      "\n",
      "  [[7.105027   4.265136   5.901007   ... 5.3569055  5.739995\n",
      "    6.056192  ]\n",
      "   [5.063876   2.5787046  2.035692   ... 2.0723376  2.7309315\n",
      "    2.9569564 ]\n",
      "   [2.3500285  0.8848383  7.4389076  ... 5.2177687  6.5829334\n",
      "    6.8256145 ]\n",
      "   ...\n",
      "   [3.6852458  2.1009777  5.830131   ... 5.4127994  6.9641595\n",
      "    7.0068326 ]\n",
      "   [4.9811916  2.9769552  6.3902593  ... 7.049898   6.3878765\n",
      "    7.8626394 ]\n",
      "   [4.522956   3.60388    6.58798    ... 6.105099   6.9519053\n",
      "    8.018607  ]]]]\n"
     ]
    }
   ],
   "source": [
    "layer = ConvLayerP()\n",
    "\n",
    "Y_shared = layer.forward_shared(X, Masks, batch, C, M, H, W, K)\n",
    "print(Y_shared.shape)\n",
    "print(Y_shared)\n",
    "\n"
   ]
  },
  {
   "cell_type": "code",
   "execution_count": 10,
   "metadata": {},
   "outputs": [],
   "source": [
    "layer = ConvLayerP()\n",
    "batch = 1000\n",
    "\n",
    "for i in range(batch):\n",
    "    _ = layer.forward_sample_naive(X[i], Masks, C, M, H, W, K)\n",
    "# Y_sample_naive = layer.forward_sample_naive(X[0], Masks, C, M, H, W, K)\n",
    "# print('Shape of X: ', X[0].shape)\n",
    "# print('Shape of Y', Y_sample_naive.shape)\n",
    "# print(Y_sample_naive)\n"
   ]
  },
  {
   "cell_type": "code",
   "execution_count": 9,
   "metadata": {},
   "outputs": [
    {
     "name": "stdout",
     "output_type": "stream",
     "text": [
      "(1000, 3, 128, 128)\n",
      "(3, 3, 3, 3)\n"
     ]
    }
   ],
   "source": [
    "layer = ConvLayerP()\n",
    "\n",
    "batch = 16\n",
    "\n",
    "print(X.shape)\n",
    "print(Masks.shape)\n",
    "\n",
    "Y_serial = layer.forward_serial(X, Masks, batch, C, M, H, W, K)"
   ]
  },
  {
   "cell_type": "code",
   "execution_count": 56,
   "metadata": {},
   "outputs": [
    {
     "name": "stdout",
     "output_type": "stream",
     "text": [
      "[0]\n",
      "[0, 0, 0]\n"
     ]
    }
   ],
   "source": [
    "a = []\n",
    "a.append(0)\n",
    "print(a)\n",
    "a += [0]\n",
    "a+=[0]\n",
    "print(a)"
   ]
  },
  {
   "cell_type": "code",
   "execution_count": null,
   "metadata": {},
   "outputs": [],
   "source": []
  }
 ],
 "metadata": {
  "interpreter": {
   "hash": "b9e7c299ad3b0bde8a352d84c77c8e176a6222f138fdde195545b1cf935bfa32"
  },
  "kernelspec": {
   "display_name": "Python 3.6.9 64-bit ('cudaEnv': venv)",
   "language": "python",
   "name": "python3"
  },
  "language_info": {
   "codemirror_mode": {
    "name": "ipython",
    "version": 3
   },
   "file_extension": ".py",
   "mimetype": "text/x-python",
   "name": "python",
   "nbconvert_exporter": "python",
   "pygments_lexer": "ipython3",
   "version": "3.6.9"
  },
  "orig_nbformat": 4
 },
 "nbformat": 4,
 "nbformat_minor": 2
}
